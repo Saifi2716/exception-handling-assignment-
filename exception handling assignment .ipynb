{
 "cells": [
  {
   "cell_type": "code",
   "execution_count": null,
   "id": "f550172c-8c60-4507-9321-a40b78288f10",
   "metadata": {},
   "outputs": [],
   "source": [
    "#Q1. What is an Exception in python? Write the difference between Exceptions and Syntax errors.\n",
    "\"\"\"An exception in Python is an error that occurs during the execution of a program. Exceptions arise when the program encounters an unexpected situation, such as dividing a number by zero, trying to access an invalid index in a list, or opening a file that doesn't exist.\n",
    "\n",
    "Python provides a mechanism to handle exceptions using try-except blocks, which allows the program to continue execution without abruptly terminating.\"\"\"\n",
    "\n",
    "#Example:\n",
    "try:\n",
    "    result = 10 / 0\n",
    "except ZeroDivisionError as e:\n",
    "    print(\"Exception occurred:\", e)\n",
    "#Difference between Exceptions and Syntax Errors\n",
    "#Aspect\tException\tSyntax Error\n",
    "#Definition\tErrors that occur during the program's execution.\tErrors due to incorrect syntax in the code.\n",
    "#When it Occurs\tHappens at runtime.\tHappens during the parsing stage (before execution).\n",
    "#Detection\tDetected when the code runs.\tDetected before the code runs.\n",
    "#Examples\t- Division by zero\n",
    "#- Accessing invalid indices\t- Missing colons\n",
    "#- Unmatched parentheses\n",
    "#Handling\tCan be handled using try-except blocks.\tCannot be handled; must be corrected in the code.\n",
    "#Example\tpython<br>try:<br> print(10 / 0)<br>except ZeroDivisionError:<br> print(\"Error!\")<br>\tpython<br>if True<br> print(\"Syntax Error!\")<br>\n",
    "\n",
    "\n",
    "\n",
    "\n",
    "\n"
   ]
  },
  {
   "cell_type": "code",
   "execution_count": null,
   "id": "e1bf419a-76a4-46de-bd24-4bb9e570d2ec",
   "metadata": {},
   "outputs": [],
   "source": [
    "#Q2. What happens when an exception is not handled? Explain with an example.\n",
    "\"\"\"ANS: If an exception is not handled in Python, the program will terminate immediately when the exception occurs. Python will display a traceback message that provides details about the error, including the type of exception and the line of code where it occurred.\n",
    "\n",
    "This abrupt termination means the rest of the code will not execute, which can disrupt program functionality.\"\"\"\n",
    "# Code without exception handling\n",
    "print(\"Start of the program\")\n",
    "\n",
    "# This line will raise an exception\n",
    "result = 10 / 0\n",
    "\n",
    "# This line will not execute because of the unhandled exception\n",
    "print(\"End of the program\")\n"
   ]
  },
  {
   "cell_type": "code",
   "execution_count": null,
   "id": "32f50528-b0a1-4224-8e5f-c47cb5224d6e",
   "metadata": {},
   "outputs": [],
   "source": [
    "#Q3. Which Python statements are used to catch and handle exceptions? Explain with an example.\n",
    "\"\"\"ANS: Python provides the following statements to catch and handle exceptions:\n",
    "\n",
    "try: Defines a block of code to test for exceptions.\n",
    "except: Defines a block of code to handle the exceptions that occur in the try block.\n",
    "else (optional): Defines a block of code that runs if no exception occurs in the try block.\n",
    "finally (optional): Defines a block of code that will always execute, regardless of whether an exception occurs or not.\"\"\"\n",
    "try:\n",
    "    # Code that might raise an exception\n",
    "    num = int(input(\"Enter a number: \"))\n",
    "    result = 10 / num\n",
    "    print(\"Result:\", result)\n",
    "except ZeroDivisionError:\n",
    "    # Code to handle division by zero\n",
    "    print(\"Error: Division by zero is not allowed.\")\n",
    "except ValueError:\n",
    "    # Code to handle invalid input (e.g., non-integer)\n",
    "    print(\"Error: Invalid input. Please enter a number.\")\n",
    "else:\n",
    "    # Code to run if no exception occurs\n",
    "    print(\"Operation successful.\")\n",
    "finally:\n",
    "    # Code that will always execute\n",
    "    print(\"Execution complete.\")\n"
   ]
  },
  {
   "cell_type": "code",
   "execution_count": null,
   "id": "a85b246d-d380-40a0-95d7-66de2cdb2590",
   "metadata": {},
   "outputs": [],
   "source": [
    "#Q4. Explain with an example:#\n",
    " #try and else#\n",
    " #finall\n",
    " #raise\n",
    " def divide_numbers(a, b):\n",
    "    try:\n",
    "        # Code that might raise an exception\n",
    "        result = a / b\n",
    "    except ZeroDivisionError:\n",
    "        # Handling division by zero\n",
    "        print(\"Error: Division by zero is not allowed.\")\n",
    "    else:\n",
    "        # Runs only if no exception occurs\n",
    "        print(f\"The result is: {result}\")\n",
    "    finally:\n",
    "        # Always runs\n",
    "        print(\"Execution of division is complete.\")\n",
    "\n",
    "# Manually raise an exception for invalid input\n",
    "def check_number(num):\n",
    "    if num < 0:\n",
    "        raise ValueError(\"Negative numbers are not allowed.\")\n",
    "    else:\n",
    "        print(f\"The number {num} is valid.\")\n",
    "\n",
    "# Main program\n",
    "try:\n",
    "    # Using the divide_numbers function\n",
    "    divide_numbers(10, 0)\n",
    "\n",
    "    # Using the check_number function\n",
    "   \n"
   ]
  },
  {
   "cell_type": "code",
   "execution_count": 1,
   "id": "d395e7e7-70b1-4684-9675-5d98f67cdafa",
   "metadata": {},
   "outputs": [
    {
     "name": "stdout",
     "output_type": "stream",
     "text": [
      "Error: Negative values are not allowed. You entered: -9.\n"
     ]
    }
   ],
   "source": [
    "#Q5. What are Custom Exceptions in python? Why do we need Custom Exceptions? Explain with an example.\n",
    "# Step 1: Define a Custom Exception\n",
    "class NegativeValueError(Exception):\n",
    "    \"\"\"Exception raised for invalid negative inputs.\"\"\"\n",
    "    def __init__(self, value, message=\"Negative values are not allowed\"):\n",
    "        self.value = value\n",
    "        self.message = message\n",
    "        super().__init__(self.message)\n",
    "\n",
    "# Step 2: Use the Custom Exception in a Function\n",
    "def calculate_square_root(value):\n",
    "    if value < 0:\n",
    "        raise NegativeValueError(value)\n",
    "    return value ** 0.5\n",
    "\n",
    "# Main Program\n",
    "try:\n",
    "    # This will raise the custom exception\n",
    "    result = calculate_square_root(-9)\n",
    "    print(f\"The square root is: {result}\")\n",
    "except NegativeValueError as e:\n",
    "    # Handle the custom exception\n",
    "    print(f\"Error: {e.message}. You entered: {e.value}.\")\n"
   ]
  },
  {
   "cell_type": "code",
   "execution_count": 3,
   "id": "2ae283aa-c253-4ec8-a64b-eb762ba3833b",
   "metadata": {},
   "outputs": [
    {
     "name": "stdin",
     "output_type": "stream",
     "text": [
      "Enter your age:  56\n"
     ]
    },
    {
     "name": "stdout",
     "output_type": "stream",
     "text": [
      "Age 56 is valid for voting.\n",
      "You are eligible to vote!\n"
     ]
    }
   ],
   "source": [
    "#Q6. Create a custom exception class. Use this class to handle an exception.\n",
    "# Step 1: Define the Custom Exception Class\n",
    "class AgeRestrictionError(Exception):\n",
    "    \"\"\"Exception raised when age does not meet a minimum requirement.\"\"\"\n",
    "    def __init__(self, age, message=\"Age must be 18 or older\"):\n",
    "        self.age = age\n",
    "        self.message = message\n",
    "        super().__init__(self.message)\n",
    "\n",
    "# Step 2: Function that Uses the Custom Exception\n",
    "def check_age_for_voting(age):\n",
    "    if age < 18:\n",
    "        raise AgeRestrictionError(age)\n",
    "    print(f\"Age {age} is valid for voting.\")\n",
    "\n",
    "# Step 3: Main Program\n",
    "try:\n",
    "    # Example with invalid age\n",
    "    age = int(input(\"Enter your age: \"))\n",
    "    check_age_for_voting(age)\n",
    "except AgeRestrictionError as e:\n",
    "    # Handling the custom exception\n",
    "    print(f\"Error: {e.message}. Your age: {e.age}.\")\n",
    "except ValueError:\n",
    "    # Handle non-integer input\n",
    "    print(\"Error: Please enter a valid integer.\")\n",
    "else:\n",
    "    print(\"You are eligible to vote!\")\n"
   ]
  },
  {
   "cell_type": "code",
   "execution_count": null,
   "id": "488c5caa-3bd4-44f8-a29a-9bd66d503a0f",
   "metadata": {},
   "outputs": [],
   "source": []
  },
  {
   "cell_type": "code",
   "execution_count": null,
   "id": "b50c0858-1333-44bd-b693-af88edb23f6f",
   "metadata": {},
   "outputs": [],
   "source": []
  },
  {
   "cell_type": "code",
   "execution_count": null,
   "id": "bd797938-10ba-4ade-8f16-329485ba2103",
   "metadata": {},
   "outputs": [],
   "source": []
  },
  {
   "cell_type": "code",
   "execution_count": null,
   "id": "6c1dec6e-a0e0-46c4-9988-1642b7fe5463",
   "metadata": {},
   "outputs": [],
   "source": []
  },
  {
   "cell_type": "code",
   "execution_count": null,
   "id": "91a0d802-baae-4c0f-a1b2-ffb15edbd322",
   "metadata": {},
   "outputs": [],
   "source": []
  },
  {
   "cell_type": "code",
   "execution_count": null,
   "id": "c5ff9f8c-9b02-4ebd-b169-4be1b42b3a74",
   "metadata": {},
   "outputs": [],
   "source": []
  }
 ],
 "metadata": {
  "kernelspec": {
   "display_name": "Python 3 (ipykernel)",
   "language": "python",
   "name": "python3"
  },
  "language_info": {
   "codemirror_mode": {
    "name": "ipython",
    "version": 3
   },
   "file_extension": ".py",
   "mimetype": "text/x-python",
   "name": "python",
   "nbconvert_exporter": "python",
   "pygments_lexer": "ipython3",
   "version": "3.12.4"
  }
 },
 "nbformat": 4,
 "nbformat_minor": 5
}
